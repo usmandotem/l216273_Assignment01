{
 "cells": [
  {
   "cell_type": "markdown",
   "metadata": {
    "id": "mwtAOew56gkd"
   },
   "source": [
    "L216273\n",
    "Usman Ahmad\n",
    "## Question 0\n",
    "\n",
    "Add all library imports here"
   ]
  },
  {
   "cell_type": "code",
   "execution_count": 27,
   "metadata": {
    "colab": {
     "base_uri": "https://localhost:8080/",
     "height": 108
    },
    "id": "swlE8Tvq6g2u",
    "outputId": "e15c033b-e9d9-4654-f3ea-79a765e579ed"
   },
   "outputs": [],
   "source": [
    "import numpy as np\n",
    "import pandas as pd\n",
    "from sklearn.model_selection import train_test_split\n",
    "from sklearn import preprocessing\n",
    "from sklearn.linear_model import LogisticRegression\n",
    "import matplotlib.pyplot as plt\n",
    "from sklearn.preprocessing import StandardScaler\n",
    "import seaborn as sns\n",
    "from sklearn import metrics\n",
    "from sklearn.metrics import accuracy_score, precision_score, recall_score, f1_score"
   ]
  },
  {
   "cell_type": "markdown",
   "metadata": {
    "id": "ZR8C9ctqsy3V"
   },
   "source": [
    "---\n",
    "## Question 1\n",
    "\n",
    "####Single Linear Regression with Gradient Descent\n",
    "\n",
    "> Take help from slides 26 and 30\n",
    "---"
   ]
  },
  {
   "cell_type": "markdown",
   "metadata": {
    "id": "DzGOilP7sy3Y"
   },
   "source": [
    "**Part A -**\n",
    "Write a function that calculates and returns value for hypothesis $h_\\theta(x)$"
   ]
  },
  {
   "cell_type": "code",
   "execution_count": 28,
   "metadata": {
    "id": "3bczSIhosy3Z"
   },
   "outputs": [],
   "source": [
    "# complete this function implementation\n",
    "def hypothesis(x, theta):\n",
    "  hyp = (theta[0] + theta[1] * x)\n",
    "  return hyp"
   ]
  },
  {
   "cell_type": "markdown",
   "metadata": {
    "id": "dXORHsxSsy3a"
   },
   "source": [
    "**Part B -**\n",
    "Write a function that calculates and returns value for loss/cost $J(\\theta_0, \\theta_1)$"
   ]
  },
  {
   "cell_type": "code",
   "execution_count": 40,
   "metadata": {
    "id": "__DPftoLsy3c"
   },
   "outputs": [],
   "source": [
    "# complete this function implementation\n",
    "def loss(hypothesis_x, y):\n",
    "  len_hyp = len(hypothesis_x)\n",
    "  return  sum([(hypothesis_x[i] - y[i])**2 for i in range(len_hyp)]) * (2 / len_hyp)\n"
   ]
  },
  {
   "cell_type": "markdown",
   "metadata": {
    "id": "WjWa6pMGsy3d"
   },
   "source": [
    "**Part C-**\n",
    "Write a function that applies the gradient descent algorithm and updates values of $\\theta_0$ and $\\theta_1$ until they converge.\n",
    "\n",
    "* take default vaue of $α$ to be 0.015\n",
    "* take default number of iterations to be 15000\n",
    "* print loss after every 500 iterations"
   ]
  },
  {
   "cell_type": "code",
   "execution_count": 41,
   "metadata": {
    "id": "U7qtzuCWsy3e"
   },
   "outputs": [],
   "source": [
    "# complete this function implementation\n",
    "def gradientdescent(x, y, theta, num_iterations=15000, alpha=0.015):\n",
    "    m = x.size\n",
    "    for j in range(num_iterations):\n",
    "        h = []\n",
    "        for num in x:\n",
    "            h.append(hypothesis(num, theta))\n",
    "        derivative_0 = sum([(hypothesis(x[i], theta) - y[i]) for i in range(m)])\n",
    "        derivative_1 = sum([(hypothesis(x[i], theta) - y[i])*x[i] for i in range(m)])\n",
    "        theta[0] = theta[0] - alpha * (1 / m) * derivative_0\n",
    "        theta[1] = theta[1] - alpha * (1 / m) * derivative_1\n",
    "        # report\n",
    "        if j % 500 == 0:\n",
    "            print('loss:', loss(h, y))"
   ]
  },
  {
   "cell_type": "markdown",
   "metadata": {
    "id": "0zwvS5cqsy3g"
   },
   "source": [
    "**Part D -**\n",
    "FactoryRevenue.csv contains information about the number of workers in a factory and the annual profit for that factory. Import the file FactoryRevenue.csv as a Pandas DataSet and print out the information for it."
   ]
  },
  {
   "cell_type": "code",
   "execution_count": 42,
   "metadata": {
    "colab": {
     "base_uri": "https://localhost:8080/"
    },
    "id": "Uef-aGHisy3h",
    "outputId": "dcfc41b4-9917-4525-ab19-7a9f5094023d"
   },
   "outputs": [
    {
     "name": "stdout",
     "output_type": "stream",
     "text": [
      "<class 'pandas.core.frame.DataFrame'>\n",
      "RangeIndex: 99 entries, 0 to 98\n",
      "Data columns (total 2 columns):\n",
      " #   Column               Non-Null Count  Dtype  \n",
      "---  ------               --------------  -----  \n",
      " 0   TotalFactoryWorkers  98 non-null     float64\n",
      " 1   AnnualProfit         98 non-null     float64\n",
      "dtypes: float64(2)\n",
      "memory usage: 1.7 KB\n"
     ]
    }
   ],
   "source": [
    "data = pd.read_csv(\"/Users/usmandotem/Downloads/Update_FactoryRevenue.csv\")\n",
    "data.info()"
   ]
  },
  {
   "cell_type": "markdown",
   "metadata": {
    "id": "yv9_dDiw65o8"
   },
   "source": [
    "**Part E -**\n",
    "Remove rows that have any null values"
   ]
  },
  {
   "cell_type": "code",
   "execution_count": 43,
   "metadata": {
    "colab": {
     "base_uri": "https://localhost:8080/"
    },
    "id": "l50u9HZx7H5t",
    "outputId": "18a144eb-b261-4a7d-c6f4-92523492e9d6"
   },
   "outputs": [
    {
     "name": "stdout",
     "output_type": "stream",
     "text": [
      "\n",
      "Number of rows:  99\n",
      "<class 'pandas.core.frame.DataFrame'>\n",
      "Int64Index: 97 entries, 0 to 98\n",
      "Data columns (total 2 columns):\n",
      " #   Column               Non-Null Count  Dtype  \n",
      "---  ------               --------------  -----  \n",
      " 0   TotalFactoryWorkers  97 non-null     float64\n",
      " 1   AnnualProfit         97 non-null     float64\n",
      "dtypes: float64(2)\n",
      "memory usage: 2.3 KB\n"
     ]
    }
   ],
   "source": [
    "print(\"\\nNumber of rows: \", data.shape[0])\n",
    "data = data.dropna()\n",
    "data.info()"
   ]
  },
  {
   "cell_type": "markdown",
   "metadata": {
    "id": "u0Y68nh87HJX"
   },
   "source": [
    "**Part F -**\n",
    "\n",
    "First identify the independant and dependant variables. \n",
    "\n",
    "Then create two arrays named x and y and add independant variable data to array x, dependant variable data to array y."
   ]
  },
  {
   "cell_type": "code",
   "execution_count": 44,
   "metadata": {
    "id": "m49bbkSy7xxp"
   },
   "outputs": [],
   "source": [
    "# independant variable:Total Factory Workers\n",
    "# dependant variable:Annual Profit\n",
    "x = np.array(data.iloc[:,0].values)\n",
    "y = np.array(data.iloc[:,1].values)"
   ]
  },
  {
   "cell_type": "markdown",
   "metadata": {
    "id": "8vRXmn9z8H4q"
   },
   "source": [
    "**Part G -** \n",
    "\n",
    "Create an array called 'theta' that will hold $θ_0$ and $θ_1$. Initalize both values to 0.\n",
    "\n",
    "Then call the gradientDescent function using array x, array y, and array theta. Do not provide any other input parameters.\n",
    "\n",
    "Print out the values of y-intercept and slope/gradient"
   ]
  },
  {
   "cell_type": "code",
   "execution_count": 45,
   "metadata": {
    "colab": {
     "base_uri": "https://localhost:8080/"
    },
    "id": "e7nBeh3b9KXK",
    "outputId": "88efc1ca-d0da-40bc-fafc-390ea94f296d"
   },
   "outputs": [
    {
     "name": "stdout",
     "output_type": "stream",
     "text": [
      "loss: 128.29093550982265\n",
      "loss: 18.291768564326606\n",
      "loss: 17.93349036245195\n",
      "loss: 17.909593338522804\n",
      "loss: 17.907999415840145\n",
      "loss: 17.90789310178507\n",
      "loss: 17.907886010676783\n",
      "loss: 17.907885537702484\n",
      "loss: 17.90788550615528\n",
      "loss: 17.90788550405109\n",
      "loss: 17.90788550391075\n",
      "loss: 17.907885503901383\n",
      "loss: 17.90788550390075\n",
      "loss: 17.907885503900708\n",
      "loss: 17.907885503900705\n",
      "loss: 17.907885503900722\n",
      "loss: 17.907885503900722\n",
      "loss: 17.90788550390071\n",
      "loss: 17.907885503900722\n",
      "loss: 17.90788550390072\n",
      "loss: 17.90788550390071\n",
      "loss: 17.90788550390072\n",
      "loss: 17.90788550390071\n",
      "loss: 17.907885503900708\n",
      "loss: 17.90788550390072\n",
      "loss: 17.90788550390072\n",
      "loss: 17.90788550390072\n",
      "loss: 17.90788550390072\n",
      "loss: 17.90788550390072\n",
      "loss: 17.90788550390072\n",
      "Y Intercept:  -3.895780878311771\n",
      "Slope:  1.1930336441895852\n"
     ]
    }
   ],
   "source": [
    "theta = [0,0]\n",
    "gradientdescent(x, y, theta)\n",
    "print(\"Y Intercept: \",theta[0])\n",
    "print(\"Slope: \",theta[1])"
   ]
  },
  {
   "cell_type": "markdown",
   "metadata": {
    "id": "lksKYteB9NOx"
   },
   "source": [
    "**Part H -** Plot a scatter plot and regression line on the same graph"
   ]
  },
  {
   "cell_type": "code",
   "execution_count": 46,
   "metadata": {
    "colab": {
     "base_uri": "https://localhost:8080/",
     "height": 295
    },
    "id": "Jdah8R6L9XSl",
    "outputId": "b9c933bb-7a3e-4392-e9db-2d0da6d3a56b"
   },
   "outputs": [
    {
     "data": {
      "image/png": "[encoded data removed]",
      "text/plain": [
       "<Figure size 432x288 with 1 Axes>"
      ]
     },
     "metadata": {
      "needs_background": "light"
     },
     "output_type": "display_data"
    }
   ],
   "source": [
    "plt.scatter(data[\"TotalFactoryWorkers\"], data[\"AnnualProfit\"])\n",
    "plt.plot(x, theta[0] + theta[1]*x, color='red')\n",
    "plt.title(\"Regression\")\n",
    "plt.xlabel(\"TotalFactoryWorkers\")\n",
    "plt.ylabel(\"AnnualProfit\")\n",
    "plt.show()"
   ]
  },
  {
   "cell_type": "markdown",
   "metadata": {
    "id": "upsln2T-38-M"
   },
   "source": [
    "---\n",
    "## Question 2\n",
    "\n",
    "Logistic Regression on Flowers Dataset\n",
    "\n",
    "---\n",
    "\n"
   ]
  },
  {
   "cell_type": "markdown",
   "metadata": {
    "id": "plh_l8AV4MU5"
   },
   "source": [
    "**Part A** - Load the file FlowersData.csv and describe the dataset"
   ]
  },
  {
   "cell_type": "code",
   "execution_count": 47,
   "metadata": {
    "colab": {
     "base_uri": "https://localhost:8080/",
     "height": 300
    },
    "id": "p7Cgq8di3771",
    "outputId": "44973d6c-8079-4856-edaa-1f5e40ab1b77"
   },
   "outputs": [
    {
     "data": {
      "text/html": [
       "<div>\n",
       "<style scoped>\n",
       "    .dataframe tbody tr th:only-of-type {\n",
       "        vertical-align: middle;\n",
       "    }\n",
       "\n",
       "    .dataframe tbody tr th {\n",
       "        vertical-align: top;\n",
       "    }\n",
       "\n",
       "    .dataframe thead th {\n",
       "        text-align: right;\n",
       "    }\n",
       "</style>\n",
       "<table border=\"1\" class=\"dataframe\">\n",
       "  <thead>\n",
       "    <tr style=\"text-align: right;\">\n",
       "      <th></th>\n",
       "      <th>sepal_length</th>\n",
       "      <th>sepal_width</th>\n",
       "      <th>petal_length</th>\n",
       "      <th>petal_width</th>\n",
       "    </tr>\n",
       "  </thead>\n",
       "  <tbody>\n",
       "    <tr>\n",
       "      <th>count</th>\n",
       "      <td>150.000000</td>\n",
       "      <td>150.000000</td>\n",
       "      <td>150.000000</td>\n",
       "      <td>150.000000</td>\n",
       "    </tr>\n",
       "    <tr>\n",
       "      <th>mean</th>\n",
       "      <td>5.843333</td>\n",
       "      <td>3.054000</td>\n",
       "      <td>3.758667</td>\n",
       "      <td>1.198667</td>\n",
       "    </tr>\n",
       "    <tr>\n",
       "      <th>std</th>\n",
       "      <td>0.828066</td>\n",
       "      <td>0.433594</td>\n",
       "      <td>1.764420</td>\n",
       "      <td>0.763161</td>\n",
       "    </tr>\n",
       "    <tr>\n",
       "      <th>min</th>\n",
       "      <td>4.300000</td>\n",
       "      <td>2.000000</td>\n",
       "      <td>1.000000</td>\n",
       "      <td>0.100000</td>\n",
       "    </tr>\n",
       "    <tr>\n",
       "      <th>25%</th>\n",
       "      <td>5.100000</td>\n",
       "      <td>2.800000</td>\n",
       "      <td>1.600000</td>\n",
       "      <td>0.300000</td>\n",
       "    </tr>\n",
       "    <tr>\n",
       "      <th>50%</th>\n",
       "      <td>5.800000</td>\n",
       "      <td>3.000000</td>\n",
       "      <td>4.350000</td>\n",
       "      <td>1.300000</td>\n",
       "    </tr>\n",
       "    <tr>\n",
       "      <th>75%</th>\n",
       "      <td>6.400000</td>\n",
       "      <td>3.300000</td>\n",
       "      <td>5.100000</td>\n",
       "      <td>1.800000</td>\n",
       "    </tr>\n",
       "    <tr>\n",
       "      <th>max</th>\n",
       "      <td>7.900000</td>\n",
       "      <td>4.400000</td>\n",
       "      <td>6.900000</td>\n",
       "      <td>2.500000</td>\n",
       "    </tr>\n",
       "  </tbody>\n",
       "</table>\n",
       "</div>"
      ],
      "text/plain": [
       "       sepal_length  sepal_width  petal_length  petal_width\n",
       "count    150.000000   150.000000    150.000000   150.000000\n",
       "mean       5.843333     3.054000      3.758667     1.198667\n",
       "std        0.828066     0.433594      1.764420     0.763161\n",
       "min        4.300000     2.000000      1.000000     0.100000\n",
       "25%        5.100000     2.800000      1.600000     0.300000\n",
       "50%        5.800000     3.000000      4.350000     1.300000\n",
       "75%        6.400000     3.300000      5.100000     1.800000\n",
       "max        7.900000     4.400000      6.900000     2.500000"
      ]
     },
     "execution_count": 47,
     "metadata": {},
     "output_type": "execute_result"
    }
   ],
   "source": [
    "data = pd.read_csv(\"FlowersData.csv\")\n",
    "data.describe()"
   ]
  },
  {
   "cell_type": "markdown",
   "metadata": {
    "id": "7LsiIV9n4QMz"
   },
   "source": [
    "**Part B** - Split data into training and test data using SKLearn train_test_split. Specify parameter test_size to be 25%\n",
    "\n",
    "Hint: You will be needing 4 arrays: X_train, X_test, y_train, y_test"
   ]
  },
  {
   "cell_type": "code",
   "execution_count": 48,
   "metadata": {
    "id": "f49YQ4GT4k5s"
   },
   "outputs": [],
   "source": [
    "x = data.iloc[:, [0,1,2,]].values\n",
    "y = data.iloc[:, 4].values\n",
    "\n",
    "X_train, X_test, y_train, y_test = train_test_split(x, y, test_size=0.25,random_state=16)"
   ]
  },
  {
   "cell_type": "markdown",
   "metadata": {
    "id": "Ez5Fa2ePDzXu"
   },
   "source": [
    "**Part C** - Perform scaling on the X_test and X_train values using StandardScacler from SKLearn Library"
   ]
  },
  {
   "cell_type": "code",
   "execution_count": 49,
   "metadata": {
    "id": "97-2bUgtDzXv"
   },
   "outputs": [],
   "source": [
    "\n",
    "scaler = StandardScaler()\n",
    "X_train = scaler.fit_transform(X_train)\n",
    "X_test = scaler.transform(X_test)\n"
   ]
  },
  {
   "cell_type": "markdown",
   "metadata": {
    "id": "E9BlQYh54lLX"
   },
   "source": [
    "**Part D** - Train Model using SKLearn LogisticRegression"
   ]
  },
  {
   "cell_type": "code",
   "execution_count": 50,
   "metadata": {
    "colab": {
     "base_uri": "https://localhost:8080/"
    },
    "id": "hD_MUVu64xkw",
    "outputId": "0cad6148-0e6e-4060-8097-d0f42503948c"
   },
   "outputs": [
    {
     "data": {
      "text/plain": [
       "LogisticRegression(random_state=16)"
      ]
     },
     "execution_count": 50,
     "metadata": {},
     "output_type": "execute_result"
    }
   ],
   "source": [
    "logisticReg = LogisticRegression(random_state=16)\n",
    "logisticReg.fit(X_train, y_train)"
   ]
  },
  {
   "cell_type": "markdown",
   "metadata": {
    "id": "-HKhBOzW4xSx"
   },
   "source": [
    "**Part E** - Predict Labels for test split"
   ]
  },
  {
   "cell_type": "code",
   "execution_count": 51,
   "metadata": {
    "colab": {
     "base_uri": "https://localhost:8080/"
    },
    "id": "IqpPKB1M5G4G",
    "outputId": "46fadd47-6fba-4a8f-9dcf-ac8ac2807f04"
   },
   "outputs": [
    {
     "name": "stdout",
     "output_type": "stream",
     "text": [
      "Predicted Labels:  ['lily' 'hibiscus' 'lily' 'lily' 'daffodil' 'hibiscus' 'daffodil'\n",
      " 'hibiscus' 'hibiscus' 'daffodil' 'daffodil' 'lily' 'lily' 'hibiscus'\n",
      " 'lily' 'daffodil' 'hibiscus' 'hibiscus' 'daffodil' 'daffodil' 'hibiscus'\n",
      " 'hibiscus' 'daffodil' 'lily' 'daffodil' 'daffodil' 'lily' 'lily' 'lily'\n",
      " 'hibiscus' 'lily' 'lily' 'hibiscus' 'daffodil' 'hibiscus' 'daffodil'\n",
      " 'hibiscus' 'daffodil']\n"
     ]
    }
   ],
   "source": [
    "prediction = logisticReg.predict(X_test)\n",
    "print(\"Predicted Labels: \",prediction)"
   ]
  },
  {
   "cell_type": "markdown",
   "metadata": {
    "id": "34It-TAowlCw"
   },
   "source": [
    "---\n",
    "## Question 3\n",
    "\n",
    "Confusion Matrix Construction\n",
    "\n",
    "---"
   ]
  },
  {
   "cell_type": "markdown",
   "metadata": {
    "id": "vi_ix0XsxF8x"
   },
   "source": [
    "**Part A** - Using the prediction result of logistic regression (Question 2) construct a confusion matrix using SKLearn confusion_matrix\n",
    "\n",
    "Print out this confusion matrix"
   ]
  },
  {
   "cell_type": "code",
   "execution_count": 52,
   "metadata": {
    "colab": {
     "base_uri": "https://localhost:8080/",
     "height": 388
    },
    "id": "o23T4fDsxD-L",
    "outputId": "161d854c-62d5-4a58-81e9-cb58c9536448"
   },
   "outputs": [
    {
     "data": {
      "image/png": "[encoded data removed]",
      "text/plain": [
       "<Figure size 864x432 with 2 Axes>"
      ]
     },
     "metadata": {
      "needs_background": "light"
     },
     "output_type": "display_data"
    }
   ],
   "source": [
    "matrix = metrics.confusion_matrix(y_test, prediction)\n",
    "plt.figure(figsize=(12,6))\n",
    "sns.heatmap(matrix, annot=True, fmt=\".3f\", linewidths=.5, square = True, cmap = 'Blues_r');\n",
    "plt.ylabel('Actual labels');\n",
    "plt.xlabel('Predicted labels');"
   ]
  },
  {
   "cell_type": "markdown",
   "metadata": {
    "id": "JlYB9BY4xEh1"
   },
   "source": [
    "**Part B** - Calculate and print Accuracy"
   ]
  },
  {
   "cell_type": "code",
   "execution_count": 53,
   "metadata": {
    "colab": {
     "base_uri": "https://localhost:8080/"
    },
    "id": "cupearHPxUKj",
    "outputId": "0c73484e-76fe-45d3-ddb2-61e6a11fd612"
   },
   "outputs": [
    {
     "name": "stdout",
     "output_type": "stream",
     "text": [
      "Accuracy: 0.8421052631578947\n"
     ]
    }
   ],
   "source": [
    "print(\"Accuracy:\",(accuracy_score(y_test, prediction)))"
   ]
  },
  {
   "cell_type": "markdown",
   "metadata": {
    "id": "RvEXBB3CxUk-"
   },
   "source": [
    "**Part C** - Calculate and print Recall"
   ]
  },
  {
   "cell_type": "code",
   "execution_count": 54,
   "metadata": {
    "colab": {
     "base_uri": "https://localhost:8080/"
    },
    "id": "PyBufaj8xbKC",
    "outputId": "fefdcbfe-667c-4f62-becb-e0a17e670039"
   },
   "outputs": [
    {
     "name": "stdout",
     "output_type": "stream",
     "text": [
      "Recall: 0.8421052631578947\n"
     ]
    }
   ],
   "source": [
    "print(\"Recall:\",(recall_score(y_test, prediction, average='weighted')))"
   ]
  },
  {
   "cell_type": "markdown",
   "metadata": {
    "id": "W6BgzGjMxbfu"
   },
   "source": [
    "**Part D** - Calculate and print Precision"
   ]
  },
  {
   "cell_type": "code",
   "execution_count": 55,
   "metadata": {
    "colab": {
     "base_uri": "https://localhost:8080/"
    },
    "id": "gHJg8C-1xg_6",
    "outputId": "d4edef20-402f-4460-dee5-512550b95d15"
   },
   "outputs": [
    {
     "name": "stdout",
     "output_type": "stream",
     "text": [
      "Precision: 0.8515519568151146\n"
     ]
    }
   ],
   "source": [
    "print(\"Precision:\",(precision_score(y_test, prediction, average='weighted')))"
   ]
  },
  {
   "cell_type": "markdown",
   "metadata": {
    "id": "6RPHz7hVxhbk"
   },
   "source": [
    "**Part E** - Calculate and print $𝐹_1$ Score"
   ]
  },
  {
   "cell_type": "code",
   "execution_count": 56,
   "metadata": {
    "colab": {
     "base_uri": "https://localhost:8080/"
    },
    "id": "NmwjCpMixmeJ",
    "outputId": "6d99202f-5204-420d-9cbd-ec9e0014ee11"
   },
   "outputs": [
    {
     "name": "stdout",
     "output_type": "stream",
     "text": [
      "F1-Score: 0.8436431989063568\n"
     ]
    }
   ],
   "source": [
    "print(\"F1-Score:\",(f1_score(y_test, prediction, average='weighted')))"
   ]
  }
 ],
 "metadata": {
  "celltoolbar": "Slideshow",
  "colab": {
   "collapsed_sections": [],
   "provenance": []
  },
  "kernelspec": {
   "display_name": "Python 3 (ipykernel)",
   "language": "python",
   "name": "python3"
  },
  "language_info": {
   "codemirror_mode": {
    "name": "ipython",
    "version": 3
   },
   "file_extension": ".py",
   "mimetype": "text/x-python",
   "name": "python",
   "nbconvert_exporter": "python",
   "pygments_lexer": "ipython3",
   "version": "3.9.12"
  }
 },
 "nbformat": 4,
 "nbformat_minor": 1
}
